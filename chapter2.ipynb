{
 "cells": [
  {
   "cell_type": "code",
   "execution_count": 1,
   "id": "a328a56b-e810-4a7d-8913-1fe27be6f652",
   "metadata": {},
   "outputs": [
    {
     "name": "stdout",
     "output_type": "stream",
     "text": [
      "hello\n"
     ]
    }
   ],
   "source": [
    "print(\"hello\")"
   ]
  },
  {
   "cell_type": "code",
   "execution_count": 2,
   "id": "70e3c1dd-71b4-4780-be15-83f9020c3e68",
   "metadata": {},
   "outputs": [],
   "source": [
    "message=\"gg\""
   ]
  },
  {
   "cell_type": "code",
   "execution_count": 3,
   "id": "159c560a-91e4-458f-be5f-6d56f9612e6d",
   "metadata": {},
   "outputs": [
    {
     "name": "stdout",
     "output_type": "stream",
     "text": [
      "gg\n"
     ]
    }
   ],
   "source": [
    "print(message)"
   ]
  },
  {
   "cell_type": "code",
   "execution_count": 4,
   "id": "e1ca8a22-5d33-40a3-8525-35e917051542",
   "metadata": {},
   "outputs": [],
   "source": [
    "message=\"ppt\""
   ]
  },
  {
   "cell_type": "code",
   "execution_count": 5,
   "id": "94220834-fb27-4ffe-8d09-ada93f7441d1",
   "metadata": {},
   "outputs": [
    {
     "name": "stdout",
     "output_type": "stream",
     "text": [
      "ppt\n"
     ]
    }
   ],
   "source": [
    "print(message)"
   ]
  },
  {
   "cell_type": "code",
   "execution_count": 12,
   "id": "5e29843e-9af2-4904-8c5f-e67512026b07",
   "metadata": {},
   "outputs": [
    {
     "name": "stdout",
     "output_type": "stream",
     "text": [
      "sdsds\n"
     ]
    }
   ],
   "source": [
    "ych =\"sdsds\"\n",
    "print(ych)"
   ]
  },
  {
   "cell_type": "code",
   "execution_count": 7,
   "id": "de929baa-4dbb-4812-bcd1-06227c38bb72",
   "metadata": {},
   "outputs": [
    {
     "name": "stdout",
     "output_type": "stream",
     "text": [
      "ych\n"
     ]
    }
   ],
   "source": []
  },
  {
   "cell_type": "code",
   "execution_count": null,
   "id": "16aaff3d-315d-40cc-a466-09a8eec45728",
   "metadata": {},
   "outputs": [],
   "source": []
  }
 ],
 "metadata": {
  "kernelspec": {
   "display_name": "Python 3 (ipykernel)",
   "language": "python",
   "name": "python3"
  },
  "language_info": {
   "codemirror_mode": {
    "name": "ipython",
    "version": 3
   },
   "file_extension": ".py",
   "mimetype": "text/x-python",
   "name": "python",
   "nbconvert_exporter": "python",
   "pygments_lexer": "ipython3",
   "version": "3.11.7"
  }
 },
 "nbformat": 4,
 "nbformat_minor": 5
}
